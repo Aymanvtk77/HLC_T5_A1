{
 "cells": [
  {
   "cell_type": "code",
   "execution_count": 1,
   "id": "7579ee3c-e5ef-4b78-9c6b-f41f5263f331",
   "metadata": {},
   "outputs": [
    {
     "name": "stdin",
     "output_type": "stream",
     "text": [
      "¿Como te llamas? Jose\n"
     ]
    },
    {
     "name": "stdout",
     "output_type": "stream",
     "text": [
      "Hola, Jose\n"
     ]
    }
   ],
   "source": [
    "nombre = input(\"¿Como te llamas?\")\n",
    "print(\"Hola,\", nombre,)"
   ]
  },
  {
   "cell_type": "code",
   "execution_count": null,
   "id": "e3fb0fe5-c4c2-471d-808a-6241234105f8",
   "metadata": {},
   "outputs": [],
   "source": []
  }
 ],
 "metadata": {
  "kernelspec": {
   "display_name": "Python 3 (ipykernel)",
   "language": "python",
   "name": "python3"
  },
  "language_info": {
   "codemirror_mode": {
    "name": "ipython",
    "version": 3
   },
   "file_extension": ".py",
   "mimetype": "text/x-python",
   "name": "python",
   "nbconvert_exporter": "python",
   "pygments_lexer": "ipython3",
   "version": "3.13.1"
  }
 },
 "nbformat": 4,
 "nbformat_minor": 5
}
